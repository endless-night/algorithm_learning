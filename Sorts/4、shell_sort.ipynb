{
 "cells": [
  {
   "attachments": {},
   "cell_type": "markdown",
   "metadata": {},
   "source": [
    "# <center> 希尔排序"
   ]
  },
  {
   "cell_type": "code",
   "execution_count": null,
   "metadata": {},
   "outputs": [],
   "source": [
    "def shell_sort(collection):\n",
    "    \"\"\"Pure implementation of shell sort algorithm in Python\n",
    "    :param collection:  Some mutable ordered collection with heterogeneous\n",
    "    comparable items inside\n",
    "    :return:  the same collection ordered by ascending\n",
    "\n",
    "    >>> shell_sort([0, 5, 3, 2, 2])\n",
    "    [0, 2, 2, 3, 5]\n",
    "    >>> shell_sort([])\n",
    "    []\n",
    "    >>> shell_sort([-2, -5, -45])\n",
    "    [-45, -5, -2]\n",
    "    \"\"\"\n",
    "    # Marcin Ciura's gap sequence\n",
    "\n",
    "    gaps = [701, 301, 132, 57, 23, 10, 4, 1]\n",
    "    for gap in gaps:\n",
    "        for i in range(gap, len(collection)):\n",
    "            insert_value = collection[i]\n",
    "            j = i\n",
    "            while j >= gap and collection[j - gap] > insert_value:\n",
    "                collection[j] = collection[j - gap]\n",
    "                j -= gap\n",
    "            if j != i:\n",
    "                collection[j] = insert_value\n",
    "    return collection"
   ]
  }
 ],
 "metadata": {
  "kernelspec": {
   "display_name": "base",
   "language": "python",
   "name": "python3"
  },
  "language_info": {
   "name": "python",
   "version": "3.6.5"
  },
  "orig_nbformat": 4
 },
 "nbformat": 4,
 "nbformat_minor": 2
}
