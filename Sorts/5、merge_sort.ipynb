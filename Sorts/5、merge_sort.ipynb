{
 "cells": [
  {
   "attachments": {},
   "cell_type": "markdown",
   "metadata": {},
   "source": [
    "# <center> 归并排序"
   ]
  },
  {
   "cell_type": "code",
   "execution_count": null,
   "metadata": {},
   "outputs": [],
   "source": [
    "def merge_sort(collection: list) -> list:\n",
    "    \"\"\"\n",
    "    :param collection: some mutable ordered collection with heterogeneous\n",
    "    comparable items inside\n",
    "    :return: the same collection ordered by ascending\n",
    "    Examples:\n",
    "    >>> merge_sort([0, 5, 3, 2, 2])\n",
    "    [0, 2, 2, 3, 5]\n",
    "    >>> merge_sort([])\n",
    "    []\n",
    "    >>> merge_sort([-2, -5, -45])\n",
    "    [-45, -5, -2]\n",
    "    \"\"\"\n",
    "\n",
    "    def merge(left: list, right: list) -> list:\n",
    "        \"\"\"\n",
    "        Merge left and right.\n",
    "\n",
    "        :param left: left collection\n",
    "        :param right: right collection\n",
    "        :return: merge result\n",
    "        \"\"\"\n",
    "\n",
    "        def _merge():\n",
    "            while left and right:\n",
    "                yield (left if left[0] <= right[0] else right).pop(0)\n",
    "            yield from left\n",
    "            yield from right\n",
    "\n",
    "        return list(_merge())\n",
    "\n",
    "    if len(collection) <= 1:\n",
    "        return collection\n",
    "    mid = len(collection) // 2\n",
    "    return merge(merge_sort(collection[:mid]), merge_sort(collection[mid:]))\n"
   ]
  }
 ],
 "metadata": {
  "kernelspec": {
   "display_name": "base",
   "language": "python",
   "name": "python3"
  },
  "language_info": {
   "name": "python",
   "version": "3.6.5"
  },
  "orig_nbformat": 4
 },
 "nbformat": 4,
 "nbformat_minor": 2
}
