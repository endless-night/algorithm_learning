{
 "cells": [
  {
   "attachments": {},
   "cell_type": "markdown",
   "metadata": {},
   "source": [
    "# <center> 冒泡排序\n",
    "## 算法描述\n",
    "* 比较相邻的元素。如果第一个比第二个大，就交换它们两个；\n",
    "* 对每一对相邻元素作同样的工作，从开始第一对到结尾的最后一对，这样在最后的元素应该会是最大的数；\n",
    "* 针对所有的元素重复以上的步骤，除了最后一个；\n",
    "* 重复步骤1~3，直到排序完成。\n",
    "  \n",
    "  ![冒泡排序]( ../src/images/bubble_sort.gif \"冒泡排序\")"
   ]
  },
  {
   "cell_type": "code",
   "execution_count": 1,
   "metadata": {},
   "outputs": [],
   "source": [
    "def bubble_sort(collection):\n",
    "    \"\"\"Pure implementation of bubble sort algorithm in Python\n",
    "\n",
    "    :param collection: some mutable ordered collection with heterogeneous\n",
    "    comparable items inside\n",
    "    :return: the same collection ordered by ascending\n",
    "    \"\"\"\n",
    "    length = len(collection)\n",
    "    for i in range(length - 1):\n",
    "        swapped = False\n",
    "        for j in range(length - 1 - i):\n",
    "            if collection[j] > collection[j + 1]:\n",
    "                swapped = True\n",
    "                collection[j], collection[j + 1] = collection[j + 1], collection[j]\n",
    "        if not swapped:\n",
    "            break  # Stop iteration if the collection is sorted.\n",
    "    return collection\n"
   ]
  },
  {
   "cell_type": "code",
   "execution_count": null,
   "metadata": {},
   "outputs": [],
   "source": [
    "import doctest\n",
    "import time\n",
    "\n",
    "doctest.testmod()\n",
    "\n",
    "user_input = input(\"Enter numbers separated by a comma:\").strip()\n",
    "unsorted = [int(item) for item in user_input.split(\",\")]\n",
    "start = time.process_time()\n",
    "print(*bubble_sort(unsorted), sep=\",\")\n",
    "print(f\"Processing time: {(time.process_time() - start)%1e9 + 7}\")"
   ]
  },
  {
   "cell_type": "code",
   "execution_count": 2,
   "metadata": {},
   "outputs": [
    {
     "data": {
      "text/plain": [
       "True"
      ]
     },
     "execution_count": 2,
     "metadata": {},
     "output_type": "execute_result"
    }
   ],
   "source": [
    "import random\n",
    "\n",
    "collection = random.sample(range(-50, 50), 100)\n",
    "bubble_sort(collection) == sorted(collection)"
   ]
  },
  {
   "cell_type": "code",
   "execution_count": 3,
   "metadata": {},
   "outputs": [
    {
     "data": {
      "text/plain": [
       "[0, 2, 2, 3, 5]"
      ]
     },
     "execution_count": 3,
     "metadata": {},
     "output_type": "execute_result"
    }
   ],
   "source": [
    "bubble_sort([0, 5, 2, 3, 2])"
   ]
  },
  {
   "cell_type": "code",
   "execution_count": 4,
   "metadata": {},
   "outputs": [
    {
     "data": {
      "text/plain": [
       "True"
      ]
     },
     "execution_count": 4,
     "metadata": {},
     "output_type": "execute_result"
    }
   ],
   "source": [
    "import string\n",
    "collection = random.choices(string.ascii_letters + string.digits, k=100)\n",
    "bubble_sort(collection) == sorted(collection)"
   ]
  }
 ],
 "metadata": {
  "kernelspec": {
   "display_name": "base",
   "language": "python",
   "name": "python3"
  },
  "language_info": {
   "codemirror_mode": {
    "name": "ipython",
    "version": 3
   },
   "file_extension": ".py",
   "mimetype": "text/x-python",
   "name": "python",
   "nbconvert_exporter": "python",
   "pygments_lexer": "ipython3",
   "version": "3.6.5"
  },
  "orig_nbformat": 4
 },
 "nbformat": 4,
 "nbformat_minor": 2
}
