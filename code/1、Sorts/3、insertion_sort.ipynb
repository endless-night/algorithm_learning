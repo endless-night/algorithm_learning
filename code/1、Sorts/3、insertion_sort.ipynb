{
 "cells": [
  {
   "attachments": {},
   "cell_type": "markdown",
   "metadata": {},
   "source": [
    "# <center> 插入排序\n",
    "## 算法描述\n",
    "* 从第一个元素开始，该元素可以认为已经被排序；\n",
    "* 取出下一个元素，在已经排序的元素序列中从后向前扫描；\n",
    "* 如果该元素（已排序）大于新元素，将该元素移到下一位置；\n",
    "* 重复步骤3，直到找到已排序的元素小于或者等于新元素的位置；\n",
    "* 将新元素插入到该位置后；\n",
    "* 重复步骤2~5。\n",
    "\n",
    " ![选择排序]( ../src/images/insertion_sort.gif \"选择排序\")"
   ]
  },
  {
   "cell_type": "code",
   "execution_count": null,
   "metadata": {},
   "outputs": [],
   "source": [
    "def insertion_sort(collection: list) -> list:\n",
    "    \"\"\"A pure Python implementation of the insertion sort algorithm\n",
    "\n",
    "    :param collection: some mutable ordered collection with heterogeneous\n",
    "    comparable items inside\n",
    "    :return: the same collection ordered by ascending\n",
    "\n",
    "    Examples:\n",
    "    >>> insertion_sort([0, 5, 3, 2, 2])\n",
    "    [0, 2, 2, 3, 5]\n",
    "    >>> insertion_sort([]) == sorted([])\n",
    "    True\n",
    "    >>> insertion_sort([-2, -5, -45]) == sorted([-2, -5, -45])\n",
    "    True\n",
    "    >>> insertion_sort(['d', 'a', 'b', 'e', 'c']) == sorted(['d', 'a', 'b', 'e', 'c'])\n",
    "    True\n",
    "    >>> import random\n",
    "    >>> collection = random.sample(range(-50, 50), 100)\n",
    "    >>> insertion_sort(collection) == sorted(collection)\n",
    "    True\n",
    "    >>> import string\n",
    "    >>> collection = random.choices(string.ascii_letters + string.digits, k=100)\n",
    "    >>> insertion_sort(collection) == sorted(collection)\n",
    "    True\n",
    "    \"\"\"\n",
    "\n",
    "    for insert_index, insert_value in enumerate(collection[1:]):\n",
    "        temp_index = insert_index\n",
    "        while insert_index >= 0 and insert_value < collection[insert_index]:\n",
    "            collection[insert_index + 1] = collection[insert_index]\n",
    "            insert_index -= 1\n",
    "        if insert_index != temp_index:\n",
    "            collection[insert_index + 1] = insert_value\n",
    "    return collection"
   ]
  }
 ],
 "metadata": {
  "kernelspec": {
   "display_name": "base",
   "language": "python",
   "name": "python3"
  },
  "language_info": {
   "name": "python",
   "version": "3.6.5"
  },
  "orig_nbformat": 4
 },
 "nbformat": 4,
 "nbformat_minor": 2
}
